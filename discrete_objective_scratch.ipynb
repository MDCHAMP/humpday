{
  "nbformat": 4,
  "nbformat_minor": 0,
  "metadata": {
    "colab": {
      "name": "discrete.ipynb",
      "provenance": [],
      "authorship_tag": "ABX9TyNTbazApPFTn0Nud4tNMPMK",
      "include_colab_link": true
    },
    "kernelspec": {
      "name": "python3",
      "display_name": "Python 3"
    },
    "language_info": {
      "name": "python"
    }
  },
  "cells": [
    {
      "cell_type": "markdown",
      "metadata": {
        "id": "view-in-github",
        "colab_type": "text"
      },
      "source": [
        "<a href=\"https://colab.research.google.com/github/microprediction/humpday/blob/main/humpday/objectives/discrete_objective_scratch_working.ipynb\" target=\"_parent\"><img src=\"https://colab.research.google.com/assets/colab-badge.svg\" alt=\"Open In Colab\"/></a>"
      ]
    },
    {
      "cell_type": "code",
      "metadata": {
        "id": "mj9OwH3f6KS5"
      },
      "source": [
        "import numpy as np \n",
        "q = np.array([22.21396024075403,\n",
        "               18.450225620003916,\n",
        "               13.091846318218286,\n",
        "               8.005787316920557,\n",
        "               2.134300511074848,\n",
        "               3.544182319235291,\n",
        "               35.01881404017196,\n",
        "               10.13779260616384])\n",
        "p =  np.array([0.01254655942360283,\n",
        "            0.03733508812414016,\n",
        "            0.08422143701988394,\n",
        "            0.11380870336858935,\n",
        "            0.4182923395784609,\n",
        "            0.2009873711681508,\n",
        "            0.027391228537457925,\n",
        "            0.10541727277971412])"
      ],
      "execution_count": 1,
      "outputs": []
    },
    {
      "cell_type": "markdown",
      "metadata": {
        "id": "4FRJc5HC7wQi"
      },
      "source": [
        "### Disclaimer. Don't use this ever for any reason. \n",
        "\n",
        "\n"
      ]
    },
    {
      "cell_type": "code",
      "metadata": {
        "id": "fsjPFjaX7skI"
      },
      "source": [
        "!pip install pyportfolioopt"
      ],
      "execution_count": null,
      "outputs": []
    },
    {
      "cell_type": "code",
      "metadata": {
        "id": "QfuRQfXk7djp"
      },
      "source": [
        "from numpy import linalg as la\n",
        "def fixcovariance(A):\n",
        "    \"\"\"Find the nearest positive-definite matrix to input\n",
        "\n",
        "    A Python/Numpy port of John D'Errico's `nearestSPD` MATLAB code [1], which\n",
        "    credits [2].\n",
        "\n",
        "    [1] https://www.mathworks.com/matlabcentral/fileexchange/42885-nearestspd\n",
        "\n",
        "    [2] N.J. Higham, \"Computing a nearest symmetric positive semidefinite\n",
        "    matrix\" (1988): https://doi.org/10.1016/0024-3795(88)90223-6\n",
        "    \"\"\"\n",
        "    def isPD(B):\n",
        "      \"\"\"Returns true when input is positive-definite, via Cholesky\"\"\"\n",
        "      try:\n",
        "          _ = la.cholesky(B)\n",
        "          return True\n",
        "      except la.LinAlgError:\n",
        "          return False\n",
        "\n",
        "    B = (A + A.T) / 2\n",
        "    _, s, V = la.svd(B)\n",
        "\n",
        "    H = np.dot(V.T, np.dot(np.diag(s), V))\n",
        "\n",
        "    A2 = (B + H) / 2\n",
        "\n",
        "    A3 = (A2 + A2.T) / 2\n",
        "\n",
        "    if isPD(A3):\n",
        "        return A3\n",
        "\n",
        "    spacing = np.spacing(la.norm(A))\n",
        "    # The above is different from [1]. It appears that MATLAB's `chol` Cholesky\n",
        "    # decomposition will accept matrixes with exactly 0-eigenvalue, whereas\n",
        "    # Numpy's will not. So where [1] uses `eps(mineig)` (where `eps` is Matlab\n",
        "    # for `np.spacing`), we use the above definition. CAVEAT: our `spacing`\n",
        "    # will be much larger than [1]'s `eps(mineig)`, since `mineig` is usually on\n",
        "    # the order of 1e-16, and `eps(1e-16)` is on the order of 1e-34, whereas\n",
        "    # `spacing` will, for Gaussian random matrixes of small dimension, be on\n",
        "    # othe order of 1e-16. In practice, both ways converge, as the unit test\n",
        "    # below suggests.\n",
        "    I = np.eye(A.shape[0])\n",
        "    k = 1\n",
        "    while not isPD(A3):\n",
        "        mineig = np.min(np.real(la.eigvals(A3)))\n",
        "        A3 += I * (-mineig * k**2 + spacing)\n",
        "        k += 1\n",
        "\n",
        "    return A3\n"
      ],
      "execution_count": null,
      "outputs": []
    },
    {
      "cell_type": "markdown",
      "metadata": {
        "id": "xLtcg1be6M1h"
      },
      "source": [
        "### Discrete allocation\n"
      ]
    },
    {
      "cell_type": "code",
      "metadata": {
        "colab": {
          "base_uri": "https://localhost:8080/"
        },
        "id": "FiGWjpWj6PCF",
        "outputId": "eda4d458-6012-4742-ca62-4bd9d6ea2d87"
      },
      "source": [
        "n = len(q)\n",
        "X = -1.0*np.ones(shape=(n, n))\n",
        "for j in range(n):\n",
        "    X[j, j] = q[j] - 1.0\n",
        "mu = np.dot(X, p)\n",
        "X_centered = X - np.tile(mu[:, np.newaxis], [1, n])\n",
        "p_eye = np.diag(p)\n",
        "sgma = np.dot(np.dot(X_centered, p_eye), np.transpose(X_centered))\n",
        "sgma_fixed = fixcovariance(sgma)\n",
        "from pypfopt.efficient_frontier import EfficientFrontier\n",
        "ef = EfficientFrontier(mu, sgma_fixed)\n",
        "weights = ef.max_sharpe(risk_free_rate=0.0)\n",
        "print(weights)\n"
      ],
      "execution_count": null,
      "outputs": [
        {
          "output_type": "stream",
          "name": "stdout",
          "text": [
            "OrderedDict([(0, 0.0), (1, 0.0), (2, 0.5110295701668779), (3, 0.0), (4, 0.0), (5, 0.0), (6, 0.0), (7, 0.4889704298331223)])\n"
          ]
        }
      ]
    }
  ]
}
