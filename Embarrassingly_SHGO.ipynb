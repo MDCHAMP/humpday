{
  "nbformat": 4,
  "nbformat_minor": 0,
  "metadata": {
    "colab": {
      "name": "Embarrassingly-SHGO.ipynb",
      "provenance": [],
      "authorship_tag": "ABX9TyPf91idg8Tq6dB4NXT1LN52",
      "include_colab_link": true
    },
    "kernelspec": {
      "name": "python3",
      "display_name": "Python 3"
    }
  },
  "cells": [
    {
      "cell_type": "markdown",
      "metadata": {
        "id": "view-in-github",
        "colab_type": "text"
      },
      "source": [
        "<a href=\"https://colab.research.google.com/github/microprediction/humpday/blob/main/Embarrassingly_SHGO.ipynb\" target=\"_parent\"><img src=\"https://colab.research.google.com/assets/colab-badge.svg\" alt=\"Open In Colab\"/></a>"
      ]
    },
    {
      "cell_type": "code",
      "metadata": {
        "id": "sFqR3IMzq8R6"
      },
      "source": [
        "!pip install embarrassingly\n",
        "!pip install shgo"
      ],
      "execution_count": null,
      "outputs": []
    },
    {
      "cell_type": "code",
      "metadata": {
        "id": "GRBG81hprArE"
      },
      "source": [
        "from shgo import shgo\n",
        "import time\n",
        "import numpy as np\n",
        "from embarrassingly.parallel import Parallel\n",
        "\n",
        "# Illustrates use of the new SHGO worker pattern in combination with the embarrassingly library\n",
        "# The idea is that you write a \"pre-objective\" function which is an objective\n",
        "# function with one additional prepended argument.\n",
        "\n",
        "NUM_WORKERS = 8\n",
        "\n",
        "\n",
        "# Suppose the objective function is\n",
        "def f(x):\n",
        "    return x[0] ** 2 + x[1] ** 2\n",
        "\n",
        "\n",
        "# Then we write a \"pre-objective function\" taking one extra argument, the worker number\n",
        "def _F(i, x):\n",
        "    \"\"\" Illustrates how to write a pre-objective function \"\"\"\n",
        "    # Use the worker number to allocate job somewhere\n",
        "    time.sleep(0.1)\n",
        "    print('Sending job to server number '+str(i))\n",
        "    return f(x)\n",
        "\n",
        "\n",
        "# And then use Parallel to create F, which expects only x\n",
        "# F will be smart enough to call _F with a sensible worker number\n",
        "F = Parallel(_F, num_workers=NUM_WORKERS)\n",
        "\n",
        "\n",
        "def demo():\n",
        "    bounds = np.array([[0, 1], ] * 2)\n",
        "\n",
        "    # Single server ...\n",
        "    ts = time.time()\n",
        "    res = shgo(f, bounds, n=50, iters=2)\n",
        "    print(f'Total time serial: {time.time() - ts}')\n",
        "    print('-')\n",
        "    print(f'res = {res}')\n",
        "    ts = time.time()\n",
        "\n",
        "\n",
        "    # Multiple servers\n",
        "    res = shgo(F, bounds, n=50, iters=2, workers=NUM_WORKERS)\n",
        "    print('=')\n",
        "    print(f'Total time par: {time.time() - ts}')\n",
        "    print('-')\n",
        "    print(f'res = {res}')\n",
        "\n"
      ],
      "execution_count": 5,
      "outputs": []
    },
    {
      "cell_type": "code",
      "metadata": {
        "id": "j-YTtPXkrOJO"
      },
      "source": [
        "demo()"
      ],
      "execution_count": null,
      "outputs": []
    }
  ]
}