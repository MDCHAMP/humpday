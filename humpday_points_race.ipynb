{
  "nbformat": 4,
  "nbformat_minor": 0,
  "metadata": {
    "colab": {
      "name": "humpday_points_race.ipynb",
      "provenance": [],
      "collapsed_sections": [],
      "authorship_tag": "ABX9TyP92W+XUtUFdGCQWxco7+m1",
      "include_colab_link": true
    },
    "kernelspec": {
      "name": "python3",
      "display_name": "Python 3"
    }
  },
  "cells": [
    {
      "cell_type": "markdown",
      "metadata": {
        "id": "view-in-github",
        "colab_type": "text"
      },
      "source": [
        "<a href=\"https://colab.research.google.com/github/microprediction/humpday/blob/main/humpday_points_race.ipynb\" target=\"_parent\"><img src=\"https://colab.research.google.com/assets/colab-badge.svg\" alt=\"Open In Colab\"/></a>"
      ]
    },
    {
      "cell_type": "code",
      "metadata": {
        "id": "UEc_jiaOkjKu"
      },
      "source": [
        "!pip install --upgrade git+https://github.com/microprediction/humpday\n",
        "# ver 0.2.2 on pypi should also work "
      ],
      "execution_count": null,
      "outputs": []
    },
    {
      "cell_type": "markdown",
      "metadata": {
        "id": "iUde5jptNnc6"
      },
      "source": [
        ""
      ]
    },
    {
      "cell_type": "markdown",
      "metadata": {
        "id": "vC_Fr2ss6kU4"
      },
      "source": [
        "### Choose Your Own Optimizer\n",
        "This uses [HumpDay](https://github.com/microprediction/humpday) to select good optimizers for your bespoke global optimization problem. It selects from a growing list at [humpday/optimizers](https://github.com/microprediction/humpday/tree/main/humpday/optimizers) that includes most of the popular packages. It leans on [Optimizer Elo Ratings](https://github.com/microprediction/optimizer-elo-ratings) to shortlist ten or so top performing methods taken from optimizers listed in [this blog article](https://www.microprediction.com/blog/humpday) about HumpDay."
      ]
    },
    {
      "cell_type": "code",
      "metadata": {
        "id": "bsT5f37Y1lOO"
      },
      "source": [
        "# Suppress suppress (urgh, shouldn't be needed soon)\n",
        "from logging import CRITICAL\n",
        "from ax.utils.common.logger import get_logger\n",
        "rt = get_logger('ax')\n",
        "rt.setLevel(CRITICAL)\n",
        "import logging, sys\n",
        "logging.disable(sys.maxsize)\n",
        "import warnings\n",
        "warnings.filterwarnings(\"ignore\")"
      ],
      "execution_count": null,
      "outputs": []
    },
    {
      "cell_type": "markdown",
      "metadata": {
        "id": "E_Eqldbx0Ye8"
      },
      "source": [
        "### Points race for top optimizers against classic objective functions"
      ]
    },
    {
      "cell_type": "code",
      "metadata": {
        "colab": {
          "base_uri": "https://localhost:8080/"
        },
        "id": "nq9dwKr_kq30",
        "outputId": "73168e14-f9bd-4a87-dacb-b32ac2aa4e06"
      },
      "source": [
        "# To run a points race using classic objective functions, \n",
        "# and include by default only the best strategies...\n",
        "from humpday import points_race\n",
        "points_race(n_dim=5, n_trials=250)\n"
      ],
      "execution_count": null,
      "outputs": [
        {
          "output_type": "stream",
          "text": [
            "Optimizing the schwefel function ...\n",
            "(4_w,8)-aCMA-ES (mu_w=2.6,w_1=52%) in dimension 5 (seed=nan, Thu Feb 18 15:54:07 2021)\n",
            "(4_w,8)-aCMA-ES (mu_w=2.6,w_1=52%) in dimension 5 (seed=nan, Thu Feb 18 15:54:11 2021)\n"
          ],
          "name": "stdout"
        }
      ]
    },
    {
      "cell_type": "markdown",
      "metadata": {
        "id": "U-vd1C8HNorY"
      },
      "source": [
        "# Results\n",
        "The last time I ran it...\n",
        "\n",
        "\n",
        "1.   dlib_default.  (29)\n",
        "2.   nlopt_directr (27)\n",
        "3.   pymoo_pattern (23)\n",
        "4.   pysot_dycors (17)\n",
        "5.   pysot_srbf (14)\n",
        "5.   optuna_cmaes (14)\n",
        "7.   skopt_gp_default (11)\n",
        "8.   nevergrad_ngopt_4 (10)\n",
        "9.   nevergrad_ngopt_8 (8)\n",
        "9.   sgho_powell_sobol (8)\n",
        "11.  ax_default (7)\n",
        "\n",
        "See [HumpDay post](https://www.microprediction.com/blog/humpday) for explanation of the algorithms. "
      ]
    },
    {
      "cell_type": "markdown",
      "metadata": {
        "id": "8GmGVlSQ0Vsm"
      },
      "source": [
        "# Run your own race..."
      ]
    },
    {
      "cell_type": "code",
      "metadata": {
        "id": "1IcGGdyik3Ze"
      },
      "source": [
        "# To run a points race against your own just create a list \n",
        "# of objective functions you care about, each taking values\n",
        "# on [0,1]^n_dim and returning float, and each inte There are some utilities\n",
        "# in the library you might take advantage of if you need to \n",
        "# modify the domain of your function. If your objective function\n",
        "# naturally has a \"long and skinny\" domain then you are up a against\n",
        "# a limitation of HumpDay. \n",
        "\n",
        "import numpy as np \n",
        "\n",
        "def my_sole_objective_in_life(x):\n",
        "   return np.linalg.norm(x)\n",
        "\n",
        "objectives = [my_sole_objective_in_life]\n",
        "\n",
        "from humpday import comparison\n",
        "comparison(objectives=objectives, n_dim=5, n_trials=250)"
      ],
      "execution_count": null,
      "outputs": []
    }
  ]
}