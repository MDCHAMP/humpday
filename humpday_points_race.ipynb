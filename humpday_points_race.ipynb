{
  "nbformat": 4,
  "nbformat_minor": 0,
  "metadata": {
    "colab": {
      "name": "humpday_points_race.ipynb",
      "provenance": [],
      "collapsed_sections": [],
      "authorship_tag": "ABX9TyP2ZZZxgaYKkwDPIyJvXTbt",
      "include_colab_link": true
    },
    "kernelspec": {
      "name": "python3",
      "display_name": "Python 3"
    }
  },
  "cells": [
    {
      "cell_type": "markdown",
      "metadata": {
        "id": "view-in-github",
        "colab_type": "text"
      },
      "source": [
        "<a href=\"https://colab.research.google.com/github/microprediction/humpday/blob/main/humpday_points_race.ipynb\" target=\"_parent\"><img src=\"https://colab.research.google.com/assets/colab-badge.svg\" alt=\"Open In Colab\"/></a>"
      ]
    },
    {
      "cell_type": "code",
      "metadata": {
        "colab": {
          "base_uri": "https://localhost:8080/"
        },
        "id": "UEc_jiaOkjKu",
        "outputId": "52ac43cb-9116-4e25-855d-ff9af60fb551"
      },
      "source": [
        "!pip install --upgrade git+https://github.com/microprediction/humpday\n",
        "# ver 0.2.2 on pypi should also work "
      ],
      "execution_count": 1,
      "outputs": [
        {
          "output_type": "stream",
          "text": [
            "Collecting git+https://github.com/microprediction/humpday\n",
            "  Cloning https://github.com/microprediction/humpday to /tmp/pip-req-build-kx9wsb1r\n",
            "  Running command git clone -q https://github.com/microprediction/humpday /tmp/pip-req-build-kx9wsb1r\n",
            "Requirement already satisfied, skipping upgrade: wheel in /usr/local/lib/python3.6/dist-packages (from humpday==0.2.2) (0.36.2)\n",
            "Requirement already satisfied, skipping upgrade: pathlib in /usr/local/lib/python3.6/dist-packages (from humpday==0.2.2) (1.0.1)\n",
            "Requirement already satisfied, skipping upgrade: numpy>=1.19.5 in /usr/local/lib/python3.6/dist-packages (from humpday==0.2.2) (1.19.5)\n",
            "Requirement already satisfied, skipping upgrade: importlib-metadata>=1.7.0 in /usr/local/lib/python3.6/dist-packages (from humpday==0.2.2) (3.4.0)\n",
            "Requirement already satisfied, skipping upgrade: getjson in /usr/local/lib/python3.6/dist-packages (from humpday==0.2.2) (1.0.0)\n",
            "Requirement already satisfied, skipping upgrade: scipy in /usr/local/lib/python3.6/dist-packages (from humpday==0.2.2) (1.4.1)\n",
            "Requirement already satisfied, skipping upgrade: scikit-optimize in /usr/local/lib/python3.6/dist-packages (from humpday==0.2.2) (0.8.1)\n",
            "Requirement already satisfied, skipping upgrade: poap in /usr/local/lib/python3.6/dist-packages (from humpday==0.2.2) (0.1.26)\n",
            "Requirement already satisfied, skipping upgrade: pySOT in /usr/local/lib/python3.6/dist-packages (from humpday==0.2.2) (0.3.3)\n",
            "Requirement already satisfied, skipping upgrade: funcy in /usr/local/lib/python3.6/dist-packages (from humpday==0.2.2) (1.15)\n",
            "Requirement already satisfied, skipping upgrade: optuna in /usr/local/lib/python3.6/dist-packages (from humpday==0.2.2) (2.5.0)\n",
            "Requirement already satisfied, skipping upgrade: deap in /usr/local/lib/python3.6/dist-packages (from humpday==0.2.2) (1.3.1)\n",
            "Requirement already satisfied, skipping upgrade: ax-platform in /usr/local/lib/python3.6/dist-packages (from humpday==0.2.2) (0.1.9)\n",
            "Requirement already satisfied, skipping upgrade: platypus-opt in /usr/local/lib/python3.6/dist-packages (from humpday==0.2.2) (1.0.4)\n",
            "Requirement already satisfied, skipping upgrade: microconventions in /usr/local/lib/python3.6/dist-packages (from humpday==0.2.2) (0.5.1)\n",
            "Requirement already satisfied, skipping upgrade: pymoo in /usr/local/lib/python3.6/dist-packages (from humpday==0.2.2) (0.4.2.1)\n",
            "Requirement already satisfied, skipping upgrade: nevergrad in /usr/local/lib/python3.6/dist-packages (from humpday==0.2.2) (0.4.3)\n",
            "Requirement already satisfied, skipping upgrade: landscapes in /usr/local/lib/python3.6/dist-packages (from humpday==0.2.2) (0.0.12)\n",
            "Requirement already satisfied, skipping upgrade: bayesian-optimization in /usr/local/lib/python3.6/dist-packages (from humpday==0.2.2) (1.2.0)\n",
            "Requirement already satisfied, skipping upgrade: cmake in /usr/local/lib/python3.6/dist-packages (from humpday==0.2.2) (3.12.0)\n",
            "Requirement already satisfied, skipping upgrade: dlib in /usr/local/lib/python3.6/dist-packages (from humpday==0.2.2) (19.18.0)\n",
            "Requirement already satisfied, skipping upgrade: nlopt in /usr/local/lib/python3.6/dist-packages (from humpday==0.2.2) (2.7.0)\n",
            "Requirement already satisfied, skipping upgrade: typing-extensions>=3.6.4; python_version < \"3.8\" in /usr/local/lib/python3.6/dist-packages (from importlib-metadata>=1.7.0->humpday==0.2.2) (3.7.4.3)\n",
            "Requirement already satisfied, skipping upgrade: zipp>=0.5 in /usr/local/lib/python3.6/dist-packages (from importlib-metadata>=1.7.0->humpday==0.2.2) (3.4.0)\n",
            "Requirement already satisfied, skipping upgrade: backoff in /usr/local/lib/python3.6/dist-packages (from getjson->humpday==0.2.2) (1.10.0)\n",
            "Requirement already satisfied, skipping upgrade: requests in /usr/local/lib/python3.6/dist-packages (from getjson->humpday==0.2.2) (2.23.0)\n",
            "Requirement already satisfied, skipping upgrade: joblib>=0.11 in /usr/local/lib/python3.6/dist-packages (from scikit-optimize->humpday==0.2.2) (1.0.0)\n",
            "Requirement already satisfied, skipping upgrade: pyaml>=16.9 in /usr/local/lib/python3.6/dist-packages (from scikit-optimize->humpday==0.2.2) (20.4.0)\n",
            "Requirement already satisfied, skipping upgrade: scikit-learn>=0.20.0 in /usr/local/lib/python3.6/dist-packages (from scikit-optimize->humpday==0.2.2) (0.22.2.post1)\n",
            "Requirement already satisfied, skipping upgrade: pyDOE2 in /usr/local/lib/python3.6/dist-packages (from pySOT->humpday==0.2.2) (1.3.0)\n",
            "Requirement already satisfied, skipping upgrade: dill in /usr/local/lib/python3.6/dist-packages (from pySOT->humpday==0.2.2) (0.3.3)\n",
            "Requirement already satisfied, skipping upgrade: pytest in /usr/local/lib/python3.6/dist-packages (from pySOT->humpday==0.2.2) (3.6.4)\n",
            "Requirement already satisfied, skipping upgrade: colorlog in /usr/local/lib/python3.6/dist-packages (from optuna->humpday==0.2.2) (4.7.2)\n",
            "Requirement already satisfied, skipping upgrade: packaging>=20.0 in /usr/local/lib/python3.6/dist-packages (from optuna->humpday==0.2.2) (20.9)\n",
            "Requirement already satisfied, skipping upgrade: tqdm in /usr/local/lib/python3.6/dist-packages (from optuna->humpday==0.2.2) (4.41.1)\n",
            "Requirement already satisfied, skipping upgrade: cmaes>=0.6.0 in /usr/local/lib/python3.6/dist-packages (from optuna->humpday==0.2.2) (0.8.1)\n",
            "Requirement already satisfied, skipping upgrade: sqlalchemy>=1.1.0 in /usr/local/lib/python3.6/dist-packages (from optuna->humpday==0.2.2) (1.3.23)\n",
            "Requirement already satisfied, skipping upgrade: cliff in /usr/local/lib/python3.6/dist-packages (from optuna->humpday==0.2.2) (3.7.0)\n",
            "Requirement already satisfied, skipping upgrade: alembic in /usr/local/lib/python3.6/dist-packages (from optuna->humpday==0.2.2) (1.5.4)\n",
            "Requirement already satisfied, skipping upgrade: jinja2 in /usr/local/lib/python3.6/dist-packages (from ax-platform->humpday==0.2.2) (2.11.3)\n",
            "Requirement already satisfied, skipping upgrade: botorch==0.2.1 in /usr/local/lib/python3.6/dist-packages (from ax-platform->humpday==0.2.2) (0.2.1)\n",
            "Requirement already satisfied, skipping upgrade: plotly in /usr/local/lib/python3.6/dist-packages (from ax-platform->humpday==0.2.2) (4.4.1)\n",
            "Requirement already satisfied, skipping upgrade: pandas in /usr/local/lib/python3.6/dist-packages (from ax-platform->humpday==0.2.2) (1.1.5)\n",
            "Requirement already satisfied, skipping upgrade: six in /usr/local/lib/python3.6/dist-packages (from platypus-opt->humpday==0.2.2) (1.15.0)\n",
            "Requirement already satisfied, skipping upgrade: deepdiff in /usr/local/lib/python3.6/dist-packages (from microconventions->humpday==0.2.2) (5.2.3)\n",
            "Requirement already satisfied, skipping upgrade: schema in /usr/local/lib/python3.6/dist-packages (from microconventions->humpday==0.2.2) (0.7.4)\n",
            "Requirement already satisfied, skipping upgrade: tdigest in /usr/local/lib/python3.6/dist-packages (from microconventions->humpday==0.2.2) (0.5.2.2)\n",
            "Requirement already satisfied, skipping upgrade: muid>=0.5.0 in /usr/local/lib/python3.6/dist-packages (from microconventions->humpday==0.2.2) (0.5.0)\n",
            "Requirement already satisfied, skipping upgrade: pymorton in /usr/local/lib/python3.6/dist-packages (from microconventions->humpday==0.2.2) (1.0.5)\n",
            "Requirement already satisfied, skipping upgrade: autograd>=1.3 in /usr/local/lib/python3.6/dist-packages (from pymoo->humpday==0.2.2) (1.3)\n",
            "Requirement already satisfied, skipping upgrade: matplotlib>=3 in /usr/local/lib/python3.6/dist-packages (from pymoo->humpday==0.2.2) (3.2.2)\n",
            "Requirement already satisfied, skipping upgrade: cma==2.7 in /usr/local/lib/python3.6/dist-packages (from pymoo->humpday==0.2.2) (2.7.0)\n",
            "Requirement already satisfied, skipping upgrade: chardet<4,>=3.0.2 in /usr/local/lib/python3.6/dist-packages (from requests->getjson->humpday==0.2.2) (3.0.4)\n",
            "Requirement already satisfied, skipping upgrade: idna<3,>=2.5 in /usr/local/lib/python3.6/dist-packages (from requests->getjson->humpday==0.2.2) (2.10)\n",
            "Requirement already satisfied, skipping upgrade: urllib3!=1.25.0,!=1.25.1,<1.26,>=1.21.1 in /usr/local/lib/python3.6/dist-packages (from requests->getjson->humpday==0.2.2) (1.24.3)\n",
            "Requirement already satisfied, skipping upgrade: certifi>=2017.4.17 in /usr/local/lib/python3.6/dist-packages (from requests->getjson->humpday==0.2.2) (2020.12.5)\n",
            "Requirement already satisfied, skipping upgrade: PyYAML in /usr/local/lib/python3.6/dist-packages (from pyaml>=16.9->scikit-optimize->humpday==0.2.2) (3.13)\n",
            "Requirement already satisfied, skipping upgrade: atomicwrites>=1.0 in /usr/local/lib/python3.6/dist-packages (from pytest->pySOT->humpday==0.2.2) (1.4.0)\n",
            "Requirement already satisfied, skipping upgrade: attrs>=17.4.0 in /usr/local/lib/python3.6/dist-packages (from pytest->pySOT->humpday==0.2.2) (20.3.0)\n",
            "Requirement already satisfied, skipping upgrade: more-itertools>=4.0.0 in /usr/local/lib/python3.6/dist-packages (from pytest->pySOT->humpday==0.2.2) (8.7.0)\n",
            "Requirement already satisfied, skipping upgrade: setuptools in /usr/local/lib/python3.6/dist-packages (from pytest->pySOT->humpday==0.2.2) (53.0.0)\n",
            "Requirement already satisfied, skipping upgrade: pluggy<0.8,>=0.5 in /usr/local/lib/python3.6/dist-packages (from pytest->pySOT->humpday==0.2.2) (0.7.1)\n",
            "Requirement already satisfied, skipping upgrade: py>=1.5.0 in /usr/local/lib/python3.6/dist-packages (from pytest->pySOT->humpday==0.2.2) (1.10.0)\n",
            "Requirement already satisfied, skipping upgrade: pyparsing>=2.0.2 in /usr/local/lib/python3.6/dist-packages (from packaging>=20.0->optuna->humpday==0.2.2) (2.4.7)\n",
            "Requirement already satisfied, skipping upgrade: pbr!=2.1.0,>=2.0.0 in /usr/local/lib/python3.6/dist-packages (from cliff->optuna->humpday==0.2.2) (5.5.1)\n",
            "Requirement already satisfied, skipping upgrade: stevedore>=2.0.1 in /usr/local/lib/python3.6/dist-packages (from cliff->optuna->humpday==0.2.2) (3.3.0)\n",
            "Requirement already satisfied, skipping upgrade: PrettyTable>=0.7.2 in /usr/local/lib/python3.6/dist-packages (from cliff->optuna->humpday==0.2.2) (2.0.0)\n",
            "Requirement already satisfied, skipping upgrade: cmd2>=1.0.0 in /usr/local/lib/python3.6/dist-packages (from cliff->optuna->humpday==0.2.2) (1.5.0)\n",
            "Requirement already satisfied, skipping upgrade: python-editor>=0.3 in /usr/local/lib/python3.6/dist-packages (from alembic->optuna->humpday==0.2.2) (1.0.4)\n",
            "Requirement already satisfied, skipping upgrade: python-dateutil in /usr/local/lib/python3.6/dist-packages (from alembic->optuna->humpday==0.2.2) (2.8.1)\n",
            "Requirement already satisfied, skipping upgrade: Mako in /usr/local/lib/python3.6/dist-packages (from alembic->optuna->humpday==0.2.2) (1.1.4)\n",
            "Requirement already satisfied, skipping upgrade: MarkupSafe>=0.23 in /usr/local/lib/python3.6/dist-packages (from jinja2->ax-platform->humpday==0.2.2) (1.1.1)\n",
            "Requirement already satisfied, skipping upgrade: torch>=1.3.1 in /usr/local/lib/python3.6/dist-packages (from botorch==0.2.1->ax-platform->humpday==0.2.2) (1.7.0+cu101)\n",
            "Requirement already satisfied, skipping upgrade: gpytorch>=1.0.0 in /usr/local/lib/python3.6/dist-packages (from botorch==0.2.1->ax-platform->humpday==0.2.2) (1.3.1)\n",
            "Requirement already satisfied, skipping upgrade: retrying>=1.3.3 in /usr/local/lib/python3.6/dist-packages (from plotly->ax-platform->humpday==0.2.2) (1.3.3)\n",
            "Requirement already satisfied, skipping upgrade: pytz>=2017.2 in /usr/local/lib/python3.6/dist-packages (from pandas->ax-platform->humpday==0.2.2) (2018.9)\n",
            "Requirement already satisfied, skipping upgrade: ordered-set==4.0.2 in /usr/local/lib/python3.6/dist-packages (from deepdiff->microconventions->humpday==0.2.2) (4.0.2)\n",
            "Requirement already satisfied, skipping upgrade: contextlib2>=0.5.5 in /usr/local/lib/python3.6/dist-packages (from schema->microconventions->humpday==0.2.2) (0.5.5)\n",
            "Requirement already satisfied, skipping upgrade: pyudorandom in /usr/local/lib/python3.6/dist-packages (from tdigest->microconventions->humpday==0.2.2) (1.0.0)\n",
            "Requirement already satisfied, skipping upgrade: accumulation-tree in /usr/local/lib/python3.6/dist-packages (from tdigest->microconventions->humpday==0.2.2) (0.6.2)\n",
            "Requirement already satisfied, skipping upgrade: contexttimer in /usr/local/lib/python3.6/dist-packages (from muid>=0.5.0->microconventions->humpday==0.2.2) (0.3.3)\n",
            "Requirement already satisfied, skipping upgrade: future>=0.15.2 in /usr/local/lib/python3.6/dist-packages (from autograd>=1.3->pymoo->humpday==0.2.2) (0.16.0)\n",
            "Requirement already satisfied, skipping upgrade: cycler>=0.10 in /usr/local/lib/python3.6/dist-packages (from matplotlib>=3->pymoo->humpday==0.2.2) (0.10.0)\n",
            "Requirement already satisfied, skipping upgrade: kiwisolver>=1.0.1 in /usr/local/lib/python3.6/dist-packages (from matplotlib>=3->pymoo->humpday==0.2.2) (1.3.1)\n",
            "Requirement already satisfied, skipping upgrade: wcwidth in /usr/local/lib/python3.6/dist-packages (from PrettyTable>=0.7.2->cliff->optuna->humpday==0.2.2) (0.2.5)\n",
            "Requirement already satisfied, skipping upgrade: pyperclip>=1.6 in /usr/local/lib/python3.6/dist-packages (from cmd2>=1.0.0->cliff->optuna->humpday==0.2.2) (1.8.1)\n",
            "Requirement already satisfied, skipping upgrade: colorama>=0.3.7 in /usr/local/lib/python3.6/dist-packages (from cmd2>=1.0.0->cliff->optuna->humpday==0.2.2) (0.4.4)\n",
            "Requirement already satisfied, skipping upgrade: dataclasses in /usr/local/lib/python3.6/dist-packages (from torch>=1.3.1->botorch==0.2.1->ax-platform->humpday==0.2.2) (0.8)\n",
            "Building wheels for collected packages: humpday\n",
            "  Building wheel for humpday (setup.py) ... \u001b[?25l\u001b[?25hdone\n",
            "  Created wheel for humpday: filename=humpday-0.2.2-cp36-none-any.whl size=86126 sha256=51c0ab4d001ea3e37b92631828d3e9010873f7a1e63279ea008e40d75d746c66\n",
            "  Stored in directory: /tmp/pip-ephem-wheel-cache-9xsnobm7/wheels/3e/1b/54/f0265dee88fadbda3e0015f68a523797de9ea6b030fc80933b\n",
            "Successfully built humpday\n",
            "Installing collected packages: humpday\n",
            "  Found existing installation: humpday 0.2.2\n",
            "    Uninstalling humpday-0.2.2:\n",
            "      Successfully uninstalled humpday-0.2.2\n",
            "Successfully installed humpday-0.2.2\n"
          ],
          "name": "stdout"
        }
      ]
    },
    {
      "cell_type": "code",
      "metadata": {
        "colab": {
          "base_uri": "https://localhost:8080/"
        },
        "id": "nq9dwKr_kq30",
        "outputId": "a1f5b484-79ff-43e8-cee0-5baee51723f3"
      },
      "source": [
        "# To run a points race against the classic objective functions:\n",
        "from humpday import points_race\n",
        "points_race(n_dim=5, n_trials=250)"
      ],
      "execution_count": null,
      "outputs": [
        {
          "output_type": "stream",
          "text": [
            "Optimizing the schwefel function ...\n"
          ],
          "name": "stdout"
        },
        {
          "output_type": "stream",
          "text": [
            "[INFO 02-18 14:52:27] ax.modelbridge.dispatch_utils: Using Bayesian Optimization generation strategy: GenerationStrategy(name='Sobol+GPEI', steps=[Sobol for 5 arms, GPEI for subsequent arms], generated 0 arm(s) so far). Iterations after 5 will take longer to generate due to model-fitting.\n",
            "[INFO 02-18 14:52:27] ax.service.managed_loop: Started full optimization with 250 steps.\n",
            "[INFO 02-18 14:52:27] ax.service.managed_loop: Running optimization trial 1...\n",
            "INFO:numexpr.utils:NumExpr defaulting to 2 threads.\n",
            "[INFO 02-18 14:52:27] ax.service.managed_loop: Running optimization trial 2...\n",
            "[INFO 02-18 14:52:27] ax.service.managed_loop: Running optimization trial 3...\n",
            "[INFO 02-18 14:52:27] ax.service.managed_loop: Running optimization trial 4...\n",
            "[INFO 02-18 14:52:27] ax.service.managed_loop: Running optimization trial 5...\n",
            "[INFO 02-18 14:52:27] ax.service.managed_loop: Running optimization trial 6...\n",
            "[INFO 02-18 14:52:29] ax.service.managed_loop: Running optimization trial 7...\n",
            "[INFO 02-18 14:52:30] ax.service.managed_loop: Running optimization trial 8...\n",
            "[INFO 02-18 14:52:31] ax.service.managed_loop: Running optimization trial 9...\n",
            "[INFO 02-18 14:52:32] ax.service.managed_loop: Running optimization trial 10...\n",
            "[INFO 02-18 14:52:34] ax.service.managed_loop: Running optimization trial 11...\n",
            "[INFO 02-18 14:52:35] ax.service.managed_loop: Running optimization trial 12...\n",
            "[INFO 02-18 14:52:37] ax.service.managed_loop: Running optimization trial 13...\n",
            "[INFO 02-18 14:52:38] ax.service.managed_loop: Running optimization trial 14...\n",
            "[INFO 02-18 14:52:39] ax.service.managed_loop: Running optimization trial 15...\n"
          ],
          "name": "stderr"
        }
      ]
    },
    {
      "cell_type": "code",
      "metadata": {
        "id": "1IcGGdyik3Ze"
      },
      "source": [
        "# To run a points race against your own:\n",
        "import numpy as np \n",
        "def my_objective(x):\n",
        "  return np.linalg.norm(x)\n",
        "objectives = [my_objective]\n",
        "\n",
        "from humpday import comparison\n",
        "comparison(objectives=objectives, n_dim=5, n_trials=250)"
      ],
      "execution_count": null,
      "outputs": []
    }
  ]
}