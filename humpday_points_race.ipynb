{
  "nbformat": 4,
  "nbformat_minor": 0,
  "metadata": {
    "colab": {
      "name": "humpday_points_race.ipynb",
      "provenance": [],
      "collapsed_sections": [],
      "authorship_tag": "ABX9TyOyvsjfCFsdOZzWq1hIF6jA",
      "include_colab_link": true
    },
    "kernelspec": {
      "name": "python3",
      "display_name": "Python 3"
    }
  },
  "cells": [
    {
      "cell_type": "markdown",
      "metadata": {
        "id": "view-in-github",
        "colab_type": "text"
      },
      "source": [
        "<a href=\"https://colab.research.google.com/github/microprediction/humpday/blob/main/humpday_points_race.ipynb\" target=\"_parent\"><img src=\"https://colab.research.google.com/assets/colab-badge.svg\" alt=\"Open In Colab\"/></a>"
      ]
    },
    {
      "cell_type": "code",
      "metadata": {
        "id": "UEc_jiaOkjKu"
      },
      "source": [
        "!pip install --upgrade git+https://github.com/microprediction/humpday\n",
        "# ver 0.2.2 on pypi should also work "
      ],
      "execution_count": null,
      "outputs": []
    },
    {
      "cell_type": "code",
      "metadata": {
        "id": "bsT5f37Y1lOO"
      },
      "source": [
        "# Suppress everything (shouldn't be needed soon)\n",
        "from logging import CRITICAL\n",
        "from ax.utils.common.logger import get_logger\n",
        "rt = get_logger('ax')\n",
        "rt.setLevel(CRITICAL)\n",
        "import logging, sys\n",
        "logging.disable(sys.maxsize)\n",
        "import warnings\n",
        "warnings.filterwarnings(\"ignore\")"
      ],
      "execution_count": null,
      "outputs": []
    },
    {
      "cell_type": "markdown",
      "metadata": {
        "id": "E_Eqldbx0Ye8"
      },
      "source": [
        "### Points race for top optimizers against classic objective functions"
      ]
    },
    {
      "cell_type": "code",
      "metadata": {
        "colab": {
          "base_uri": "https://localhost:8080/"
        },
        "id": "nq9dwKr_kq30",
        "outputId": "73168e14-f9bd-4a87-dacb-b32ac2aa4e06"
      },
      "source": [
        "# To run a points race against the classic objective functions:\n",
        "from humpday import points_race\n",
        "points_race(n_dim=5, n_trials=250)\n"
      ],
      "execution_count": null,
      "outputs": [
        {
          "output_type": "stream",
          "text": [
            "Optimizing the schwefel function ...\n",
            "(4_w,8)-aCMA-ES (mu_w=2.6,w_1=52%) in dimension 5 (seed=nan, Thu Feb 18 15:54:07 2021)\n",
            "(4_w,8)-aCMA-ES (mu_w=2.6,w_1=52%) in dimension 5 (seed=nan, Thu Feb 18 15:54:11 2021)\n"
          ],
          "name": "stdout"
        }
      ]
    },
    {
      "cell_type": "markdown",
      "metadata": {
        "id": "8GmGVlSQ0Vsm"
      },
      "source": [
        "# Run your own race..."
      ]
    },
    {
      "cell_type": "code",
      "metadata": {
        "id": "1IcGGdyik3Ze"
      },
      "source": [
        "# To run a points race against your own just create a list \n",
        "# of objective functions you care about, each taking values\n",
        "# on [0,1]^n_dim and returning float, and each inte There are some utilities\n",
        "# in the library you might take advantage of if you need to \n",
        "# modify the domain of your function. If your objective function\n",
        "# naturally has a \"long and skinny\" domain then you are up a against\n",
        "# a limitation of HumpDay. \n",
        "\n",
        "import numpy as np \n",
        "\n",
        "def my_sole_objective_in_life(x):\n",
        "   return np.linalg.norm(x)\n",
        "\n",
        "objectives = [my_sole_objective_in_life]\n",
        "\n",
        "from humpday import comparison\n",
        "comparison(objectives=objectives, n_dim=5, n_trials=250)"
      ],
      "execution_count": null,
      "outputs": []
    }
  ]
}