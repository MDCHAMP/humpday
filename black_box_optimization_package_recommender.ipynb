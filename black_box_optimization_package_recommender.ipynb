{
  "nbformat": 4,
  "nbformat_minor": 0,
  "metadata": {
    "colab": {
      "name": "black-box-optimization-package-recommender.ipynb",
      "provenance": [],
      "authorship_tag": "ABX9TyNtZEx4uaOAqgeXAE4/vn5J",
      "include_colab_link": true
    },
    "kernelspec": {
      "name": "python3",
      "display_name": "Python 3"
    },
    "language_info": {
      "name": "python"
    }
  },
  "cells": [
    {
      "cell_type": "markdown",
      "metadata": {
        "id": "view-in-github",
        "colab_type": "text"
      },
      "source": [
        "<a href=\"https://colab.research.google.com/github/microprediction/humpday/blob/main/black_box_optimization_package_recommender.ipynb\" target=\"_parent\"><img src=\"https://colab.research.google.com/assets/colab-badge.svg\" alt=\"Open In Colab\"/></a>"
      ]
    },
    {
      "cell_type": "code",
      "metadata": {
        "id": "dOItaUcAIxs8"
      },
      "source": [
        "!pip install --upgrade git+https://github.com/microprediction/humpday.git\n",
        "!pip install scikit-optimize\n",
        "!pip install nevergrad\n",
        "!pip install optuna\n",
        "!pip install platypus-opt\n",
        "!pip install poap\n",
        "!pip install pysot\n",
        "!pip install bayesian-optimization\n",
        "!pip install cmake\n",
        "!pip install ultraopt\n",
        "!pip install dlib \n",
        "!pip install ax-platform\n",
        "!pip install py-bobyqa\n",
        "!pip install hebo\n",
        "!pip install nlopt\n"
      ],
      "execution_count": null,
      "outputs": []
    },
    {
      "cell_type": "code",
      "metadata": {
        "id": "GGfPDj6ERPU5"
      },
      "source": [
        "from humpday import recommend\n",
        "import time \n",
        "import math\n",
        "from pprint import pprint"
      ],
      "execution_count": 9,
      "outputs": []
    },
    {
      "cell_type": "markdown",
      "metadata": {
        "id": "V1yKlwYgJLuQ"
      },
      "source": [
        "# A script to recommend a black box optimizer\n",
        "There are lots of package out there. This will generate a shortlist of Python global derivative free optimizers. "
      ]
    },
    {
      "cell_type": "code",
      "metadata": {
        "colab": {
          "base_uri": "https://localhost:8080/"
        },
        "id": "e2Ff1ZyVJGBR",
        "outputId": "03aafbfc-9e3e-430c-fcd9-e79bbaba597e"
      },
      "source": [
        "def my_objective(u):\n",
        "   # Swap this out for your own. \n",
        "   # Domain must be [0,1]^n\n",
        "   time.sleep(0.01)\n",
        "   return u[0]*math.sin(u[1])\n",
        "\n",
        "my_objective(u=[0.2,0.5])\n"
      ],
      "execution_count": 10,
      "outputs": [
        {
          "output_type": "execute_result",
          "data": {
            "text/plain": [
              "0.0958851077208406"
            ]
          },
          "metadata": {},
          "execution_count": 10
        }
      ]
    },
    {
      "cell_type": "markdown",
      "metadata": {
        "id": "x3myV_06JO09"
      },
      "source": [
        "## Run the recommender\n",
        "This will puke a list of optimizers, informed by ongoing battles reported in the [Optimizer Elo Ratings](https://microprediction.github.io/optimizer-elo-ratings/html_leaderboards/all_d08_n80.html)"
      ]
    },
    {
      "cell_type": "code",
      "metadata": {
        "colab": {
          "base_uri": "https://localhost:8080/"
        },
        "id": "dWwUwleVJIQT",
        "outputId": "ed3866f3-9f3b-4797-d303-41042e6624b9"
      },
      "source": [
        "recommendations = recommend(my_objective, n_dim=4, n_trials=130)\n",
        "pprint(recommendations[:7])\n"
      ],
      "execution_count": 11,
      "outputs": [
        {
          "output_type": "stream",
          "name": "stdout",
          "text": [
            "[(1814.3755906106635, 0.0029230117797851562, 'scipy_powell_cube'),\n",
            " (1802.5838664883092, 0.020003080368041992, 'shgo_nelder_sobol_cube'),\n",
            " (1731.6287534816827, 0.028772830963134766, 'pymoo_pattern_cube'),\n",
            " (1687.2937489303822, 0.024258852005004883, 'pymoo_nelder_cube'),\n",
            " (1678.704250303725, 0.017965078353881836, 'shgo_powell_sobol_cube'),\n",
            " (1655.2005888973442, 0.018489837646484375, 'shgo_slsqp_sobol_cube'),\n",
            " (1626.2464422864057, 0.0031270980834960938, 'scipy_lbfgsb_cube')]\n"
          ]
        }
      ]
    },
    {
      "cell_type": "markdown",
      "metadata": {
        "id": "7IP3OxYNO4mo"
      },
      "source": [
        "Any of these can be called from the humpday package. "
      ]
    },
    {
      "cell_type": "markdown",
      "metadata": {
        "id": "dGIFSpq0M9pm"
      },
      "source": [
        "# Feeling lucky?\n",
        "Go ahead and use the meta-minimizer. This uses the top recommendation. "
      ]
    },
    {
      "cell_type": "code",
      "metadata": {
        "colab": {
          "base_uri": "https://localhost:8080/",
          "height": 334
        },
        "id": "aHG1YJGiM_-T",
        "outputId": "7b82a666-1713-4aaa-ea99-2a1c9b6bba60"
      },
      "source": [
        "from humpday import minimize\n",
        "best_val, best_x = minimize(my_objective, n_dim=3, n_trials=80 )\n",
        "print('Best x ='+str(best_x)+' corresponding to a value of '+str(best_val))"
      ],
      "execution_count": 12,
      "outputs": [
        {
          "output_type": "stream",
          "name": "stdout",
          "text": [
            "Using pymoo_pattern_cube\n"
          ]
        },
        {
          "output_type": "error",
          "ename": "TypeError",
          "evalue": "ignored",
          "traceback": [
            "\u001b[0;31m---------------------------------------------------------------------------\u001b[0m",
            "\u001b[0;31mTypeError\u001b[0m                                 Traceback (most recent call last)",
            "\u001b[0;32m<ipython-input-12-18cd1a3df926>\u001b[0m in \u001b[0;36m<module>\u001b[0;34m()\u001b[0m\n\u001b[1;32m      1\u001b[0m \u001b[0;32mfrom\u001b[0m \u001b[0mhumpday\u001b[0m \u001b[0;32mimport\u001b[0m \u001b[0mminimize\u001b[0m\u001b[0;34m\u001b[0m\u001b[0;34m\u001b[0m\u001b[0m\n\u001b[0;32m----> 2\u001b[0;31m \u001b[0mbest_val\u001b[0m\u001b[0;34m,\u001b[0m \u001b[0mbest_x\u001b[0m \u001b[0;34m=\u001b[0m \u001b[0mminimize\u001b[0m\u001b[0;34m(\u001b[0m\u001b[0mmy_objective\u001b[0m\u001b[0;34m,\u001b[0m \u001b[0mn_dim\u001b[0m\u001b[0;34m=\u001b[0m\u001b[0;36m3\u001b[0m\u001b[0;34m,\u001b[0m \u001b[0mn_trials\u001b[0m\u001b[0;34m=\u001b[0m\u001b[0;36m80\u001b[0m \u001b[0;34m)\u001b[0m\u001b[0;34m\u001b[0m\u001b[0;34m\u001b[0m\u001b[0m\n\u001b[0m\u001b[1;32m      3\u001b[0m \u001b[0mprint\u001b[0m\u001b[0;34m(\u001b[0m\u001b[0;34m'Best x ='\u001b[0m\u001b[0;34m+\u001b[0m\u001b[0mstr\u001b[0m\u001b[0;34m(\u001b[0m\u001b[0mbest_x\u001b[0m\u001b[0;34m)\u001b[0m\u001b[0;34m+\u001b[0m\u001b[0;34m' corresponding to a value of '\u001b[0m\u001b[0;34m+\u001b[0m\u001b[0mstr\u001b[0m\u001b[0;34m(\u001b[0m\u001b[0mbest_val\u001b[0m\u001b[0;34m)\u001b[0m\u001b[0;34m)\u001b[0m\u001b[0;34m\u001b[0m\u001b[0;34m\u001b[0m\u001b[0m\n",
            "\u001b[0;32m/usr/local/lib/python3.7/dist-packages/humpday/optimizers/meta.py\u001b[0m in \u001b[0;36mminimize\u001b[0;34m(objective, n_dim, n_trials, category, with_count)\u001b[0m\n\u001b[1;32m     19\u001b[0m     \u001b[0moptim\u001b[0m \u001b[0;34m=\u001b[0m \u001b[0moptimizer_from_name\u001b[0m\u001b[0;34m(\u001b[0m\u001b[0mopt\u001b[0m\u001b[0;34m)\u001b[0m\u001b[0;34m\u001b[0m\u001b[0;34m\u001b[0m\u001b[0m\n\u001b[1;32m     20\u001b[0m     \u001b[0mprint\u001b[0m\u001b[0;34m(\u001b[0m\u001b[0;34m'Using '\u001b[0m\u001b[0;34m+\u001b[0m\u001b[0mopt\u001b[0m\u001b[0;34m)\u001b[0m\u001b[0;34m\u001b[0m\u001b[0;34m\u001b[0m\u001b[0m\n\u001b[0;32m---> 21\u001b[0;31m     \u001b[0;32mreturn\u001b[0m \u001b[0moptim\u001b[0m\u001b[0;34m(\u001b[0m\u001b[0mobjective\u001b[0m\u001b[0;34m,\u001b[0m \u001b[0mn_dim\u001b[0m\u001b[0;34m=\u001b[0m\u001b[0mn_dim\u001b[0m\u001b[0;34m,\u001b[0m \u001b[0mn_trials\u001b[0m\u001b[0;34m=\u001b[0m\u001b[0mn_trials\u001b[0m\u001b[0;34m,\u001b[0m \u001b[0mwith_count\u001b[0m\u001b[0;34m=\u001b[0m\u001b[0mwith_count\u001b[0m\u001b[0;34m)\u001b[0m\u001b[0;34m\u001b[0m\u001b[0;34m\u001b[0m\u001b[0m\n\u001b[0m\u001b[1;32m     22\u001b[0m \u001b[0;34m\u001b[0m\u001b[0m\n\u001b[1;32m     23\u001b[0m \u001b[0;34m\u001b[0m\u001b[0m\n",
            "\u001b[0;31mTypeError\u001b[0m: 'NoneType' object is not callable"
          ]
        }
      ]
    },
    {
      "cell_type": "markdown",
      "metadata": {
        "id": "aikEN8PsQcMC"
      },
      "source": [
        "No luck? Occasionally these optimizers fail on corner cases. Occasionally. "
      ]
    },
    {
      "cell_type": "markdown",
      "metadata": {
        "id": "oIQvl8G6Qm6r"
      },
      "source": [
        "# Rather choose your own?\n",
        "If you see something you like, you can instantiate it easily:"
      ]
    },
    {
      "cell_type": "code",
      "metadata": {
        "colab": {
          "base_uri": "https://localhost:8080/",
          "height": 198
        },
        "id": "Mjgt3DuUQPr4",
        "outputId": "23f9fa89-1215-4cc8-f4d4-0c794b7e3707"
      },
      "source": [
        "from humpday.optimizers.alloptimizers import optimizer_from_name\n",
        "optim = optimizer_from_name('pymoo_pattern_cube')\n",
        "optim(my_objective,n_dim=4, n_trials=130)"
      ],
      "execution_count": 7,
      "outputs": [
        {
          "output_type": "error",
          "ename": "TypeError",
          "evalue": "ignored",
          "traceback": [
            "\u001b[0;31m---------------------------------------------------------------------------\u001b[0m",
            "\u001b[0;31mTypeError\u001b[0m                                 Traceback (most recent call last)",
            "\u001b[0;32m<ipython-input-7-94966d4ba674>\u001b[0m in \u001b[0;36m<module>\u001b[0;34m()\u001b[0m\n\u001b[1;32m      1\u001b[0m \u001b[0;32mfrom\u001b[0m \u001b[0mhumpday\u001b[0m\u001b[0;34m.\u001b[0m\u001b[0moptimizers\u001b[0m\u001b[0;34m.\u001b[0m\u001b[0malloptimizers\u001b[0m \u001b[0;32mimport\u001b[0m \u001b[0moptimizer_from_name\u001b[0m\u001b[0;34m\u001b[0m\u001b[0;34m\u001b[0m\u001b[0m\n\u001b[1;32m      2\u001b[0m \u001b[0moptim\u001b[0m \u001b[0;34m=\u001b[0m \u001b[0moptimizer_from_name\u001b[0m\u001b[0;34m(\u001b[0m\u001b[0;34m'pymoo_pattern_cube'\u001b[0m\u001b[0;34m)\u001b[0m\u001b[0;34m\u001b[0m\u001b[0;34m\u001b[0m\u001b[0m\n\u001b[0;32m----> 3\u001b[0;31m \u001b[0moptim\u001b[0m\u001b[0;34m(\u001b[0m\u001b[0mmy_objective\u001b[0m\u001b[0;34m,\u001b[0m\u001b[0mn_dim\u001b[0m\u001b[0;34m=\u001b[0m\u001b[0;36m4\u001b[0m\u001b[0;34m,\u001b[0m \u001b[0mn_trials\u001b[0m\u001b[0;34m=\u001b[0m\u001b[0;36m130\u001b[0m\u001b[0;34m)\u001b[0m\u001b[0;34m\u001b[0m\u001b[0;34m\u001b[0m\u001b[0m\n\u001b[0m",
            "\u001b[0;31mTypeError\u001b[0m: 'NoneType' object is not callable"
          ]
        }
      ]
    },
    {
      "cell_type": "markdown",
      "metadata": {
        "id": "ncULVsRVPLUs"
      },
      "source": [
        "# Points race\n",
        "Here's something else you can do that is a bit more time intensive, but probably very helpful. The 'points race' utility will see how all the recommended optimizers perform on your objective function (or set of objective functions). It reports a running total of points, where 3 points are assigned for first place, 2 for second and 1 for third. "
      ]
    },
    {
      "cell_type": "code",
      "metadata": {
        "id": "Hd0gHMSJQ7d9"
      },
      "source": [
        "def my_other_objective(u):\n",
        "   # Swap this out for your own. \n",
        "   # Domain must be [0,1]^n\n",
        "   time.sleep(0.01)\n",
        "   return u[0]*u[0]*math.cos(u[1])"
      ],
      "execution_count": null,
      "outputs": []
    },
    {
      "cell_type": "code",
      "metadata": {
        "colab": {
          "base_uri": "https://localhost:8080/"
        },
        "id": "-HK2wVpvQv12",
        "outputId": "849b2777-c98a-460e-d300-7df635dee4a7"
      },
      "source": [
        "from humpday import points_race\n",
        "points_race(objectives=[my_objective, my_other_objective],n_dim=5, n_trials=100)"
      ],
      "execution_count": null,
      "outputs": [
        {
          "output_type": "stream",
          "text": [
            "Optimizing the my_objective function ...\n",
            "Best so far ...\n",
            "Counter({'pysot_dycors': 3, 'dlib_default': 2, 'pysot_srbf': 1})\n",
            "Optimizing the my_other_objective function ...\n",
            "Best so far ...\n",
            "Counter({'pysot_dycors': 4,\n",
            "         'nevergrad_ngopt8': 3,\n",
            "         'dlib_default': 2,\n",
            "         'shgo_powell_sobol': 2,\n",
            "         'pysot_srbf': 1})\n"
          ],
          "name": "stdout"
        },
        {
          "output_type": "execute_result",
          "data": {
            "text/plain": [
              "Counter({'dlib_default': 2,\n",
              "         'nevergrad_ngopt8': 3,\n",
              "         'pysot_dycors': 4,\n",
              "         'pysot_srbf': 1,\n",
              "         'shgo_powell_sobol': 2})"
            ]
          },
          "metadata": {
            "tags": []
          },
          "execution_count": 10
        }
      ]
    }
  ]
}