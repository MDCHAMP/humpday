{
  "nbformat": 4,
  "nbformat_minor": 0,
  "metadata": {
    "colab": {
      "name": "black-box-optimization-package-recommender.ipynb",
      "provenance": [],
      "authorship_tag": "ABX9TyM1NSgK2QDCz0nG596bO35f",
      "include_colab_link": true
    },
    "kernelspec": {
      "name": "python3",
      "display_name": "Python 3"
    },
    "language_info": {
      "name": "python"
    }
  },
  "cells": [
    {
      "cell_type": "markdown",
      "metadata": {
        "id": "view-in-github",
        "colab_type": "text"
      },
      "source": [
        "<a href=\"https://colab.research.google.com/github/microprediction/humpday/blob/main/black_box_optimization_package_recommender.ipynb\" target=\"_parent\"><img src=\"https://colab.research.google.com/assets/colab-badge.svg\" alt=\"Open In Colab\"/></a>"
      ]
    },
    {
      "cell_type": "code",
      "metadata": {
        "id": "dOItaUcAIxs8"
      },
      "source": [
        "!pip install --upgrade git+https://github.com/microprediction/humpday.git\n",
        "from humpday import recommend\n",
        "import time \n",
        "import math\n",
        "from pprint import pprint"
      ],
      "execution_count": 1,
      "outputs": []
    },
    {
      "cell_type": "markdown",
      "metadata": {
        "id": "V1yKlwYgJLuQ"
      },
      "source": [
        "# A script to recommend a black box optimizer\n",
        "There are lots of package out there. This will generate a shortlist of Python global derivative free optimizers. "
      ]
    },
    {
      "cell_type": "code",
      "metadata": {
        "colab": {
          "base_uri": "https://localhost:8080/"
        },
        "id": "e2Ff1ZyVJGBR",
        "outputId": "f57acca2-3c6a-4cc2-b347-cbbc17c29f73"
      },
      "source": [
        "def my_objective(u):\n",
        "   # Swap this out for your own. \n",
        "   # Domain must be [0,1]^n\n",
        "   time.sleep(0.01)\n",
        "   return u[0]*math.sin(u[1])\n",
        "\n",
        "my_objective(u=[0.2,0.5])\n"
      ],
      "execution_count": 2,
      "outputs": [
        {
          "output_type": "execute_result",
          "data": {
            "text/plain": [
              "0.0958851077208406"
            ]
          },
          "metadata": {
            "tags": []
          },
          "execution_count": 2
        }
      ]
    },
    {
      "cell_type": "markdown",
      "metadata": {
        "id": "x3myV_06JO09"
      },
      "source": [
        "## Run the recommender\n",
        "This will puke a list of optimizers, informed by ongoing battles reported in the [Optimizer Elo Ratings](https://microprediction.github.io/optimizer-elo-ratings/html_leaderboards/all_d08_n80.html)"
      ]
    },
    {
      "cell_type": "code",
      "metadata": {
        "colab": {
          "base_uri": "https://localhost:8080/"
        },
        "id": "dWwUwleVJIQT",
        "outputId": "93c5ee9b-0a09-48ef-cd29-0d5346ccf668"
      },
      "source": [
        "recommendations = recommend(my_objective, n_dim=4, n_trials=130)\n",
        "pprint(recommendations[:7])\n"
      ],
      "execution_count": 5,
      "outputs": [
        {
          "output_type": "stream",
          "text": [
            "[(1814.3755906106635, 0.0029230117797851562, 'scipy_powell_cube'),\n",
            " (1802.5838664883092, 0.020003080368041992, 'shgo_nelder_sobol_cube'),\n",
            " (1731.6287534816827, 0.028772830963134766, 'pymoo_pattern_cube'),\n",
            " (1687.2937489303822, 0.024258852005004883, 'pymoo_nelder_cube'),\n",
            " (1678.704250303725, 0.017965078353881836, 'shgo_powell_sobol_cube'),\n",
            " (1655.2005888973442, 0.018489837646484375, 'shgo_slsqp_sobol_cube'),\n",
            " (1626.2464422864057, 0.0031270980834960938, 'scipy_lbfgsb_cube')]\n"
          ],
          "name": "stdout"
        }
      ]
    },
    {
      "cell_type": "markdown",
      "metadata": {
        "id": "7IP3OxYNO4mo"
      },
      "source": [
        "Any of these can be called from the humpday package. "
      ]
    },
    {
      "cell_type": "markdown",
      "metadata": {
        "id": "dGIFSpq0M9pm"
      },
      "source": [
        "# Feeling lucky?\n",
        "Go ahead and use the meta-minimizer. This uses the top recommendation. "
      ]
    },
    {
      "cell_type": "code",
      "metadata": {
        "colab": {
          "base_uri": "https://localhost:8080/"
        },
        "id": "aHG1YJGiM_-T",
        "outputId": "1aee27f3-e9a9-4238-8f38-e26feb8f404a"
      },
      "source": [
        "from humpday import minimize\n",
        "best_val, best_x = minimize(my_objective, n_dim=3, n_trials=80 )\n",
        "print('Best x ='+str(best_x)+' corresponding to a value of '+str(best_val))"
      ],
      "execution_count": 8,
      "outputs": [
        {
          "output_type": "stream",
          "text": [
            "Using pymoo_pattern_cube\n",
            "Best x =[0.0, 0.6348237335399349, 0.6447877272460907] corresponding to a value of 0.0\n"
          ],
          "name": "stdout"
        }
      ]
    },
    {
      "cell_type": "markdown",
      "metadata": {
        "id": "aikEN8PsQcMC"
      },
      "source": [
        "No luck? Occasionally these optimizers fail on corner cases. Occasionally. "
      ]
    },
    {
      "cell_type": "markdown",
      "metadata": {
        "id": "oIQvl8G6Qm6r"
      },
      "source": [
        "# Rather choose your own?\n",
        "If you see something you like, you can instantiate it easily:"
      ]
    },
    {
      "cell_type": "code",
      "metadata": {
        "colab": {
          "base_uri": "https://localhost:8080/"
        },
        "id": "Mjgt3DuUQPr4",
        "outputId": "8eae20d6-c3a7-4547-827a-affbea0fad0d"
      },
      "source": [
        "from humpday.optimizers.alloptimizers import optimizer_from_name\n",
        "optim = optimizer_from_name('pymoo_pattern_cube')\n",
        "optim(my_objective,n_dim=4, n_trials=130)"
      ],
      "execution_count": 7,
      "outputs": [
        {
          "output_type": "execute_result",
          "data": {
            "text/plain": [
              "(0.0, [0.0, 0.21637049754769633, 0.8998361810833971, 0.18582771649799196])"
            ]
          },
          "metadata": {
            "tags": []
          },
          "execution_count": 7
        }
      ]
    },
    {
      "cell_type": "markdown",
      "metadata": {
        "id": "ncULVsRVPLUs"
      },
      "source": [
        "# Points race\n",
        "Here's something else you can do that is a bit more time intensive, but probably very helpful. The 'points race' utility will see how all the recommended optimizers perform on your objective function (or set of objective functions). It reports a running total of points, where 3 points are assigned for first place, 2 for second and 1 for third. "
      ]
    },
    {
      "cell_type": "code",
      "metadata": {
        "id": "Hd0gHMSJQ7d9"
      },
      "source": [
        "def my_other_objective(u):\n",
        "   # Swap this out for your own. \n",
        "   # Domain must be [0,1]^n\n",
        "   time.sleep(0.01)\n",
        "   return u[0]*u[0]*math.cos(u[1])"
      ],
      "execution_count": 9,
      "outputs": []
    },
    {
      "cell_type": "code",
      "metadata": {
        "colab": {
          "base_uri": "https://localhost:8080/"
        },
        "id": "-HK2wVpvQv12",
        "outputId": "849b2777-c98a-460e-d300-7df635dee4a7"
      },
      "source": [
        "from humpday import points_race\n",
        "points_race(objectives=[my_objective, my_other_objective],n_dim=5, n_trials=100)"
      ],
      "execution_count": 10,
      "outputs": [
        {
          "output_type": "stream",
          "text": [
            "Optimizing the my_objective function ...\n",
            "Best so far ...\n",
            "Counter({'pysot_dycors': 3, 'dlib_default': 2, 'pysot_srbf': 1})\n",
            "Optimizing the my_other_objective function ...\n",
            "Best so far ...\n",
            "Counter({'pysot_dycors': 4,\n",
            "         'nevergrad_ngopt8': 3,\n",
            "         'dlib_default': 2,\n",
            "         'shgo_powell_sobol': 2,\n",
            "         'pysot_srbf': 1})\n"
          ],
          "name": "stdout"
        },
        {
          "output_type": "execute_result",
          "data": {
            "text/plain": [
              "Counter({'dlib_default': 2,\n",
              "         'nevergrad_ngopt8': 3,\n",
              "         'pysot_dycors': 4,\n",
              "         'pysot_srbf': 1,\n",
              "         'shgo_powell_sobol': 2})"
            ]
          },
          "metadata": {
            "tags": []
          },
          "execution_count": 10
        }
      ]
    }
  ]
}