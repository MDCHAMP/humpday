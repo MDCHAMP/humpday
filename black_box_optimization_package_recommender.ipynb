{
  "nbformat": 4,
  "nbformat_minor": 0,
  "metadata": {
    "colab": {
      "name": "black-box-optimization-package-recommender.ipynb",
      "provenance": [],
      "authorship_tag": "ABX9TyNKtQbqDq8UtzqZutImHYJN",
      "include_colab_link": true
    },
    "kernelspec": {
      "name": "python3",
      "display_name": "Python 3"
    },
    "language_info": {
      "name": "python"
    }
  },
  "cells": [
    {
      "cell_type": "markdown",
      "metadata": {
        "id": "view-in-github",
        "colab_type": "text"
      },
      "source": [
        "<a href=\"https://colab.research.google.com/github/microprediction/humpday/blob/main/black_box_optimization_package_recommender.ipynb\" target=\"_parent\"><img src=\"https://colab.research.google.com/assets/colab-badge.svg\" alt=\"Open In Colab\"/></a>"
      ]
    },
    {
      "cell_type": "code",
      "metadata": {
        "id": "dOItaUcAIxs8"
      },
      "source": [
        "!pip install --upgrade git+https://github.com/microprediction/humpday.git\n",
        "!pip install scikit-optimize\n",
        "!pip install nevergrad\n",
        "!pip install optuna\n",
        "!pip install platypus-opt\n",
        "!pip install poap\n",
        "!pip install pysot\n",
        "!pip install bayesian-optimization\n",
        "!pip install cmake\n",
        "!pip install ultraopt\n",
        "!pip install dlib \n",
        "!pip install ax-platform\n",
        "!pip install py-bobyqa\n",
        "!pip install hebo\n",
        "!pip install nlopt\n"
      ],
      "execution_count": null,
      "outputs": []
    },
    {
      "cell_type": "code",
      "metadata": {
        "id": "GGfPDj6ERPU5",
        "outputId": "1e641145-eb82-4bde-bf04-d376fda27459",
        "colab": {
          "base_uri": "https://localhost:8080/"
        }
      },
      "source": [
        "from humpday import recommend\n",
        "import time \n",
        "import math\n",
        "from pprint import pprint"
      ],
      "execution_count": 2,
      "outputs": [
        {
          "output_type": "stream",
          "name": "stdout",
          "text": [
            "To use top optimizers in anger you need to install pysot, nevergrad, optuna, pymoo, skopt, nlopt, dlib\n"
          ]
        }
      ]
    },
    {
      "cell_type": "markdown",
      "metadata": {
        "id": "V1yKlwYgJLuQ"
      },
      "source": [
        "# A script to recommend a black box optimizer\n",
        "There are lots of package out there. This will generate a shortlist of Python global derivative free optimizers. "
      ]
    },
    {
      "cell_type": "code",
      "metadata": {
        "colab": {
          "base_uri": "https://localhost:8080/"
        },
        "id": "e2Ff1ZyVJGBR",
        "outputId": "b520b158-d73e-4591-da22-49942aa09077"
      },
      "source": [
        "def my_objective(u):\n",
        "   # Swap this out for your own. \n",
        "   # Domain must be [0,1]^n\n",
        "   time.sleep(0.01)\n",
        "   return u[0]*math.sin(u[1])\n",
        "\n",
        "my_objective(u=[0.2,0.5])\n"
      ],
      "execution_count": 3,
      "outputs": [
        {
          "output_type": "execute_result",
          "data": {
            "text/plain": [
              "0.0958851077208406"
            ]
          },
          "metadata": {},
          "execution_count": 3
        }
      ]
    },
    {
      "cell_type": "markdown",
      "metadata": {
        "id": "x3myV_06JO09"
      },
      "source": [
        "## Run the recommender\n",
        "This will puke a list of optimizers, informed by ongoing battles reported in the [Optimizer Elo Ratings](https://microprediction.github.io/optimizer-elo-ratings/html_leaderboards/all_d08_n80.html)"
      ]
    },
    {
      "cell_type": "code",
      "metadata": {
        "colab": {
          "base_uri": "https://localhost:8080/"
        },
        "id": "dWwUwleVJIQT",
        "outputId": "f85cf8f9-e0e9-4a40-eae8-0ad8f8706482"
      },
      "source": [
        "recommendations = recommend(my_objective, n_dim=4, n_trials=130)\n",
        "pprint(recommendations[:7])\n"
      ],
      "execution_count": 4,
      "outputs": [
        {
          "output_type": "stream",
          "name": "stdout",
          "text": [
            "[(1814.3755906106635, 0.0029230117797851562, 'scipy_powell_cube'),\n",
            " (1802.5838664883092, 0.020003080368041992, 'shgo_nelder_sobol_cube'),\n",
            " (1731.6287534816827, 0.028772830963134766, 'pymoo_pattern_cube'),\n",
            " (1687.2937489303822, 0.024258852005004883, 'pymoo_nelder_cube'),\n",
            " (1678.704250303725, 0.017965078353881836, 'shgo_powell_sobol_cube'),\n",
            " (1655.2005888973442, 0.018489837646484375, 'shgo_slsqp_sobol_cube'),\n",
            " (1626.2464422864057, 0.0031270980834960938, 'scipy_lbfgsb_cube')]\n"
          ]
        }
      ]
    },
    {
      "cell_type": "markdown",
      "metadata": {
        "id": "7IP3OxYNO4mo"
      },
      "source": [
        "Any of these can be called from the humpday package. "
      ]
    },
    {
      "cell_type": "markdown",
      "metadata": {
        "id": "ncULVsRVPLUs"
      },
      "source": [
        "# Points race\n",
        "Here's something else you can do that is a bit more time intensive, but probably very helpful. The 'points race' utility will see how all the recommended optimizers perform on your objective function (or set of objective functions). It reports a running total of points, where 3 points are assigned for first place, 2 for second and 1 for third. "
      ]
    },
    {
      "cell_type": "code",
      "metadata": {
        "id": "Hd0gHMSJQ7d9"
      },
      "source": [
        "def my_other_objective(u):\n",
        "   # Swap this out for your own. \n",
        "   # Domain must be [0,1]^n\n",
        "   time.sleep(0.01)\n",
        "   return u[0]*u[0]*math.cos(u[1])"
      ],
      "execution_count": 7,
      "outputs": []
    },
    {
      "cell_type": "code",
      "metadata": {
        "colab": {
          "base_uri": "https://localhost:8080/"
        },
        "id": "-HK2wVpvQv12",
        "outputId": "849b2777-c98a-460e-d300-7df635dee4a7"
      },
      "source": [
        "from humpday import points_race\n",
        "points_race(objectives=[my_objective, my_other_objective],n_dim=5, n_trials=100)"
      ],
      "execution_count": null,
      "outputs": [
        {
          "output_type": "stream",
          "text": [
            "Optimizing the my_objective function ...\n",
            "Best so far ...\n",
            "Counter({'pysot_dycors': 3, 'dlib_default': 2, 'pysot_srbf': 1})\n",
            "Optimizing the my_other_objective function ...\n",
            "Best so far ...\n",
            "Counter({'pysot_dycors': 4,\n",
            "         'nevergrad_ngopt8': 3,\n",
            "         'dlib_default': 2,\n",
            "         'shgo_powell_sobol': 2,\n",
            "         'pysot_srbf': 1})\n"
          ],
          "name": "stdout"
        },
        {
          "output_type": "execute_result",
          "data": {
            "text/plain": [
              "Counter({'dlib_default': 2,\n",
              "         'nevergrad_ngopt8': 3,\n",
              "         'pysot_dycors': 4,\n",
              "         'pysot_srbf': 1,\n",
              "         'shgo_powell_sobol': 2})"
            ]
          },
          "metadata": {
            "tags": []
          },
          "execution_count": 10
        }
      ]
    }
  ]
}